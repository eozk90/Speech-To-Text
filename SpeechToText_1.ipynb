{
 "cells": [
  {
   "cell_type": "markdown",
   "metadata": {},
   "source": [
    "1 - Setting up the Watson STT Service \n",
    "\n",
    "2 - Compressing audio with Python\n",
    "\n",
    "3 - Transcribing chunked audio with STT"
   ]
  },
  {
   "cell_type": "markdown",
   "metadata": {},
   "source": [
    "## Install and Import Dependencies"
   ]
  },
  {
   "cell_type": "code",
   "execution_count": 5,
   "metadata": {},
   "outputs": [
    {
     "name": "stdout",
     "output_type": "stream",
     "text": [
      "Requirement already satisfied: ibm_watson in /home/efeozkaya/anaconda3/lib/python3.8/site-packages (5.2.0)\n",
      "Requirement already satisfied: websocket-client==0.48.0 in /home/efeozkaya/anaconda3/lib/python3.8/site-packages (from ibm_watson) (0.48.0)\n",
      "Requirement already satisfied: ibm-cloud-sdk-core==3.*,>=3.3.6 in /home/efeozkaya/anaconda3/lib/python3.8/site-packages (from ibm_watson) (3.10.0)\n",
      "Requirement already satisfied: requests<3.0,>=2.0 in /home/efeozkaya/anaconda3/lib/python3.8/site-packages (from ibm_watson) (2.24.0)\n",
      "Requirement already satisfied: python-dateutil>=2.5.3 in /home/efeozkaya/anaconda3/lib/python3.8/site-packages (from ibm_watson) (2.8.1)\n",
      "Requirement already satisfied: six in /home/efeozkaya/anaconda3/lib/python3.8/site-packages (from websocket-client==0.48.0->ibm_watson) (1.15.0)\n",
      "Requirement already satisfied: PyJWT<3.0.0,>=2.0.1 in /home/efeozkaya/anaconda3/lib/python3.8/site-packages (from ibm-cloud-sdk-core==3.*,>=3.3.6->ibm_watson) (2.1.0)\n",
      "Requirement already satisfied: certifi>=2017.4.17 in /home/efeozkaya/anaconda3/lib/python3.8/site-packages (from requests<3.0,>=2.0->ibm_watson) (2020.6.20)\n",
      "Requirement already satisfied: urllib3!=1.25.0,!=1.25.1,<1.26,>=1.21.1 in /home/efeozkaya/anaconda3/lib/python3.8/site-packages (from requests<3.0,>=2.0->ibm_watson) (1.25.11)\n",
      "Requirement already satisfied: idna<3,>=2.5 in /home/efeozkaya/anaconda3/lib/python3.8/site-packages (from requests<3.0,>=2.0->ibm_watson) (2.10)\n",
      "Requirement already satisfied: chardet<4,>=3.0.2 in /home/efeozkaya/anaconda3/lib/python3.8/site-packages (from requests<3.0,>=2.0->ibm_watson) (3.0.4)\n"
     ]
    }
   ],
   "source": [
    "!pip install ibm_watson"
   ]
  },
  {
   "cell_type": "code",
   "execution_count": 6,
   "metadata": {},
   "outputs": [],
   "source": [
    "from ibm_watson import SpeechToTextV1\n",
    "from ibm_cloud_sdk_core.authenticators import IAMAuthenticator"
   ]
  },
  {
   "cell_type": "markdown",
   "metadata": {},
   "source": [
    "## Setup STT Service"
   ]
  },
  {
   "cell_type": "code",
   "execution_count": 7,
   "metadata": {},
   "outputs": [],
   "source": [
    "apikey = '...'\n",
    "url = '...'"
   ]
  },
  {
   "cell_type": "code",
   "execution_count": 8,
   "metadata": {},
   "outputs": [],
   "source": [
    "authenticator = IAMAuthenticator(apikey)\n",
    "stt = SpeechToTextV1(authenticator = authenticator)\n",
    "stt.set_service_url(url)"
   ]
  },
  {
   "cell_type": "markdown",
   "metadata": {},
   "source": [
    "## Compress and Split Audio"
   ]
  },
  {
   "cell_type": "code",
   "execution_count": 9,
   "metadata": {},
   "outputs": [
    {
     "data": {
      "text/plain": [
       "0"
      ]
     },
     "execution_count": 9,
     "metadata": {},
     "output_type": "execute_result"
    }
   ],
   "source": [
    "import subprocess \n",
    "import os\n",
    "command = 'ffmpeg -i Therapy_1.mp3 -f segment -segment_time 360 -c copy %03d.mp3'\n",
    "subprocess.call(command, shell=True)"
   ]
  },
  {
   "cell_type": "code",
   "execution_count": 10,
   "metadata": {},
   "outputs": [],
   "source": [
    "files = []\n",
    "for filename in os.listdir('.'):\n",
    "    if filename.endswith(\".mp3\") and filename !='Therapy_1.mp3':\n",
    "        files.append(filename)\n",
    "files.sort()"
   ]
  },
  {
   "cell_type": "code",
   "execution_count": 11,
   "metadata": {},
   "outputs": [
    {
     "data": {
      "text/plain": [
       "['000.mp3', '001.mp3', '002.mp3', '003.mp3', '004.mp3', '005.mp3']"
      ]
     },
     "execution_count": 11,
     "metadata": {},
     "output_type": "execute_result"
    }
   ],
   "source": [
    "files"
   ]
  },
  {
   "cell_type": "markdown",
   "metadata": {},
   "source": [
    "## Output a Text File"
   ]
  },
  {
   "cell_type": "code",
   "execution_count": 14,
   "metadata": {},
   "outputs": [],
   "source": [
    "results = []\n",
    "for filename in files:\n",
    "    with open(filename, 'rb') as f:\n",
    "        res = stt.recognize(audio=f,\n",
    "                            content_type='audio/mp3',\n",
    "                            model='en-GB_NarrowbandModel',\n",
    "                            continuous=True,\n",
    "                            inactivity_timeout=360).get_result()\n",
    "        results.append(res)"
   ]
  },
  {
   "cell_type": "code",
   "execution_count": 15,
   "metadata": {},
   "outputs": [
    {
     "name": "stdout",
     "output_type": "stream",
     "text": [
      "myself and my boyfriend have been going through a lot lately %HESITATION this is the last letter for us we really really hanging them in our relationship I've seen opportunity for social experiment and I think that it's best to both come here and get some help  your movie you want  with my partner for three years now  just like everyone else we've had our ups and downs in all things happens but come into therapy with a counter offer some social experiment bash just if the rest flag to be fair and now like she knows my perspective on this I prefer to go to a church and we sit down the pasta in a corner but you know often to this extent we were sitting here for a social experiment it's just it doesn't make sense I think it's gonna go south black I'm ninety percent sure but at the end of the I'll just say look I told you so  hello I didn't come in sit down  hello Paul  how was the traffic  terrible here we made it my name is Denise and I will surface today have you ever been to therapy before  never we've never been I did go online I read how important it is about you know %HESITATION having premarital therapy counselling and I do believe myself in port %HESITATION I and I needed some help I wouldn't say this here it's a point of no return but I don't know the date we are we're progressing in our relationship and I'm not entirely happy okay so Paul %HESITATION thank you for joining us  have you got any idea of what expectations you are looking to to get out of this this heresy session by virtually  I have no idea I'm curious to find out okay that's great well it's great that you hear so shall we Stott of course this isn't my first time and come on very comfortable from the camera I understand port isn't I didn't bring him here to embarrass him so this is kind of like shock therapy in much shocking internal kind of seeing that we need help that we've actually got problems in our relationship I'm gonna ask ME to just started off %HESITATION what would you like to start off with %HESITATION  okay I wanted I love you  you do know that right  and I do feel as though  we are we've got different %HESITATION views of life for to me Polish very image you put through much emphasis on how people perceive us as a couple %HESITATION how he's perceived as an individual and how I'm perceived as an individual currently in our relationship with doing a lot of patching instead of really like fixing the issues okay pool  do you feel the same way  published really blown away like I haven't even heard this before  what do you want to give more context to what you're actually saying because I'm a tiny bit okay poor for example has a lot of friends yes that's what friends he thought that he had to fit in  which he he might fit in as friendship but with when it comes to finances he doesn't say anything for for looking at percentage wise in when they go out on what they spend they can afford it we con what Paul would do it anyway and then he'll spend the next week or two chasing the bag he's blown %HESITATION which now leaves me in a deficit of love so there's a glitch going on in the household or so we literally just got here like we haven't been in for five minutes Thomas talking about finance to the bloody they need someone that we don't even know now first of all there is no managers out there with multiple accounts crypto accounts high interest accounts that's going to fit down and show his goal his balance so she doesn't even know the financial situation first so hang on let me just let pools and speak regarding the image and the going out and you know chasing the bag as show me just said  those interested in I I actually think she's right  but let me break it down for you  I am happy  and I'm humble enough to be the protest man in a room full of millionaires  do you know why  okay do you know who would have the most benefit in that type of situation you would  so that practically how I've been able to exponentially grow my incompetence least taken the whole fake it till you make it to another extent because the end of the day I'm not nice to know that you are treated how you're perceived however be yourself %HESITATION the whole spending above your means should I think yes we could afford it I'm not saying we cont because he's the first person to speak about finances and we need to save all we need to do this we need to do that but as much as you are purchasing nice things pulled out a lot of the spending in the park we've had situations where he's invested and there's been no returns so I don't feel that I need to stuff at the expense of his investing and putting himself in positions to get deals when not all the time it works out an item we are with the gather you know I mean we're in a relationship we're not business partners so I. I'm suffering for nothing  do you feel that it's an equal situation  she's just she differently suffering for nothing  okay so I'm I'm not saying that's not what I said is like your comprehension this is why we're here because anytime I bring up at home he dismisses it okay you're you're not comprehending what I'm saying I've lost a little just explain  okay look everything I said you've got that bit flagpoles  he takes what he wants to take here's what you want to hear and he sees what he wants to see I'm not dismissing it right now right having a conversation I don't know you from anywhere but you'll hear from the conversation right so let me first ID in %HESITATION she was happy with you know the drive the ambition you know meeting you know calculated risk here in their in game awards she's the first person to comment you know fail congratulations being let's celebrate together but then I've actually kept the same energy and now it seems like she doesn't really have the same energy so who is the person that's full enough okay so that's what I'm here  well because I still I still would %HESITATION celebrate your window that that's true but the only thing is that we give you an example right so literally I have access to a good number of private members clubs this is through the clients of mine I train %HESITATION high net worth individuals %HESITATION you know celebrities you name  now with the membership clubs policies not everyone else  no invited and I thought like that kind of affects Tremont whereas before we were going to like you know like a normal type of yes everything maybe the average over you know the usual been our country L. baby no come along but when I'm actually you know go often and chasing the bag as you said  I don't really feel like she needs to be present and she has never having invite anyway so okay that's that's not what we're I'm not I'm not upset that I'm unable to come to the events that you go to answer the Campbell in places because it's gambling fax me it's casino isn't it so the clothes you guys are going to and the money you're spending some of the is Gamblin racked because everything is he likes to say it's constructive club in is not constructive is not beneficial to %HESITATION our relationship autumn to him even places like that he places too much emphasis on how they look at him so your out here doing the most buying family bottles paying ten case for tables and it doesn't make sense I am at home  being a collected when he comes home he goes back to work but my point is you're putting too much emphasis on the way they see why is that you're trying to you you're supposed to be impressing me not them for the path of people that I deal with billing another level to be fair the highlight work and they work really hard for themselves now for me to be able to kind of be that active service for them you can imagine how hard I have to work and they're calling the unions also invested in your message with the text or what's that listen you need to be on point unable to give them that service  I'm on my way for this social experiment I'm quite excited and happy that Jamal is use a message here and what's to be part of this there's a few things that I do want to get off my chest it'll be nice for you to develop sweets a very Pierce and I'm excited that British transform  actually I live in %HESITATION hybrid Islington so it was not too bad of a Jenny just about twenty minutes %HESITATION good so my partners when they apologise this idea comes the sessions  it was develop idea but %HESITATION I'm open to it and excited and you know I want to see what we can take our relation because we are you know everything together a year now so advert as I understand how to mow is lane he's the one that has brought me to this whole thing and your late I'm sitting here I don't know the lady's very stupid as you mow it late  serious  cause the traffic bad for  here now so that's all that matters can I just stop by OSC in you  what brought you here and how long have you been together  you know take that normally for  we've actually been together for a year %HESITATION I met Jim mail at one of his fitness events so Michael sort of fitness that those in a class together and then we may revise walking and then we now him for so she %HESITATION has has very people for and he thought it was really good and helpful so I thought like that one open to doing it and what are you hoping to achieve by the end what's your goals coming to therapy offering thirteen certain foundations %HESITATION honestly blossom from dispute for relations are got %HESITATION started great relations to have working parts work nothing too big I guess to go over this looking into your background have you had many relationship this actually is matha relationship %HESITATION but I have obviously dated in the pasta the other methods relationship and yes going strong yes and what about your email doesn't Mar fourth relationship  hope is my last one I'm sure looking looking good mostly things are going well then I mean  to an extent %HESITATION I think with there's a lot that we need to work on an example of today into Marlena our connect five he does fitness so I time to the tables already class but whenever we plan to go like date now so we go to church together %HESITATION every few weeks he's always late when I dress him he's unable to communicate and explain like why he's label give me a heads up for being late but you know that's that's a problem for me so like you always late when it comes to something that we're doing I don't feel like you respect my time I don't think imho has ever been late to a client's zoom meeting or why they went separate time he's late work farmers market insurance for like it's more down to communication there's been several times to communicate that you're gonna be late course well that last week we had to cut my house yes we change the time before %HESITATION so Dennis is  duration so %HESITATION reading the time was eight PM then I realise I double booked remember client certainly without that's already an issue we had preplanned we had pre planned that will go to meet up with as a recent we have been seeing each other as often as demands taken on more clients but we had pre agreed that we were going to see each other on this particular day wide open looking things happen like I do have clients across the point that's question when you are going to be late do you communicate that to let her know before boot Kaneda okay so the last time we invite me how can I communicate a  he told me five minutes before the time already late  that's inappropriate and we're just always complain about me being late election just as full as been controlling she doesn't take consideration my time when coming from what I'm doing before she just wants to set the time expecting to get thank on a run just for the record how would you like him to change I don't think they were I like I like his drive that's kind of well if you give us a point is they need to be a balance I'm happy for you to great I'm happy for you to do all the things you do but again within a relationship the the problem with users you think we're business partners we note I need love as well you know I mean I I've got a business I work but I still feed you ask the will love on you but I don't get is not reciprocated so hang on Paul do you feel that you'll giving as good as you get in the love %HESITATION stakes what to be fair I do I did but now I kind of  I'm thinking to myself like the scene trust you trust me  what yes I know I do trust you okay if you trust me and you trust my judgement and you know that between the both of us we both got off to the position where we are which is a better position than we were in why would you not continue to trust the process  because you've already paid the whole love aspect well politically I'm a woman I'm not would  I've got hot this is the problem I have with women right like for example with terminate when we first started she knows I'm hard working hours doing exercising what have to do okay everything was fine she was happy I've got a hard working guy okay how case okay call nowadays when I'm coming back to me the same person's complaining often me where my coming from and I'm thinking what first of all don't work overtime and I'm doing other things on a different level but I'm the same person so why would you question can I just ask what celeb the last  loving thing you did for the needs the knees yes any  look we're not going to play the whole Turner each other against each other when the last time you bought flowers forget about it let's get down to wave now just of just just to briefly go over this light %HESITATION this far as I understand  he's been called for employed rather to basically help us in our relationship to get better right  okay so how do you think you're doing so far  okay firm then be rude I've  general question that's on called general question okay I can also actually don't worry  the fact is I'm here to enable you to see through the fall because that may be there at the moment I'm not here to give you an ounce I'm just helping you discover what's going on okay okay what sure such fifty three in terms of like couples that have been to your for processions and have gone on to get married  well it I think you've already done your research I did research and I found out that a lot of people gave you good reviews %HESITATION a lot of them have actually gone on to get married a lot of them have resolve this situation %HESITATION open minded I feel like people get results from youth open minded vision also question what should suffer three only percentages at all figures I'm afraid I don't work in figures I work in people and when people come back is because they're seeing results so as far as I'm concerned %HESITATION things were working so if we came back in session means it's working  will you sign up for a certain number of sessions and then we discuss whether you need all sort of more than one  %HESITATION he's being very rude and I really don't understand why she's just doing her job I'm quite happy with the service were getting so far so I don't know why he's you need to calm down a little bit because I am getting irritated at this point you'll be in very dismissive and then Thursday Polish making me feel less than okay he's very judgmental with the whole image thing  do if I don't know what he does then there's a problem one thing I'm not going to continue to do is be with a man not saying that when I leave this relationship but I cont continue to be in a relationship with someone who makes me feel less than on makes me feel like I'm in the wrong every single time %HESITATION okay  we're both kind of in line in terms of our goals and our vision plan I would assume that we both basically be on the same page is is that wrong Danny's  no it's good Wednesday but and couples are on the same page but are you on the same page  are you Oscar I'm asking both of you do you think you got on the same hand feel as though we are on the same page of certain things but again as much as Paul says I lacked mag he has a lot of issues with things that I do  manger mail argue all the time about his phone and social media he literally enough of social media this is Newcastle club other than if you can about it basically by and large the apps so might actually wish that was not invented I would support him off their long day and we have a sense for holiday and he has published in the background life he literally call me on his math book so that we can he can  published in the background and then we have a separate conversation like that stirs thank you much how does that make you feel when he's got club has going in your on the phone as well I mean if I was talking to you all day like I'm I'm not important like new know that those bed early so I'm really gonna take twenty minutes of your time do you get what I mean but he he had to have come up in the background you have to be on stage when after his involved with that it's really not that deep I don't know what it is I don't know if is that he's craving female attention I'm not giving him enough attention this guy always wants to be on stage what are you chasing why you looking for I don't understand is really not that deep to be fair the way she's making to be fair I would go put a car club of particles really interests are just listen to it as like background really don't you always say that you always have to make one point we're not sure doesn't mean always comment regardless of the fact when in your life not more than double no I don't agree that question honestly please that's it I said okay  okay let me put in the me  you are more important club off that's fax I don't really agree but that's fine you know what they say is a safe space so absolute fun work I guess but all things about club as a full out Deborah just  she wants attention I guess or have been cleaning here in this cute but listening to relax I think she's getting a bit jealous maybe how much time do you actually spend together I think we first started the relationship will seem travel quite often obviously terms of changing shifted in R. C. our workers have gone busy but now if you may cancel me  yes I do it for a few as I said like within reason within our time schedules of the she doesn't mind giving Amer on %HESITATION she knows when I'm busy and when I'm not seeing obviously problem we've in the twenty sixteen to me what a typical working day for you is because of the other said before I was I'm across the points are cover a different countries %HESITATION termination no like you they cover eighty five countries we get in like sometimes we come out six years sometimes you wake up that we had to stand guard so obviously I mean different times on I mean different body clock so I do get tired easily %HESITATION and I'm sorry I'm as Austin log anything some personal trainers which is an a brand marketer do you feel that you make time for demo certain I don't think he does %HESITATION when we first got together we've seen each other for up to three pound a week now it's like once every two weeks for me I remember when I spend time me or not but for me that's like what what is the relationship from when I see you want everything weeks to go I mean I love quality time and you know that another father relationship that was what was happening but obviously now there has been a shift and that is what I don't like okay so Paul just give me a little bit of your background what what business you in  yes also the question mate so what is my business has to do with the really just just asking I just wanted to know whether that was influencing the way that live with life sorry I'm a provider  what is it that you do understand just what I don't I don't I don't see how this is gonna help our relationship in the long term this is the problem that I have right look we've just finished a lady I just thought out she's just asking lots of intrusive questions that doesn't really relate to the situation at hand she's often me what do I do comic money that's what I do isn't finished question would you want from me Jennifer and you're here for a certain purpose to help with the relationship do that if you wanted it to not overuse for me the whole point is she's here right and I've got %HESITATION his been together for three years you got me a note well not here okay but I mean you know in terms of the journey we've been together for a long time I've managed to sustain operations ship %HESITATION financially that's the question you're asking no I wasn't I was simply wondering what motivated you and how you work together without telling you too much %HESITATION I literally work with high net worth individuals influences liberties you name it provide them with basically nutrition as well as fitness %HESITATION I also run in I. T. business which %HESITATION you know work with potentially what  really influences brand yes more to up skill basically zero very busy man I am even if there's nothing to do Paul will tell his friends do arm does just done some no you haven't like chill relax like you're not busy twenty four seven even the busiest person has time Paul and do you do anything together any you know hobbies that you do together the staff on on our laptops in the same room maybe when we started dating we select the same music he was more fun now these I don't I don't even know who's sitting next to me to be honest and how do you feel  that's the  is B. S. look new zip on the burner boyfriend you you you used to be but now plans %HESITATION like when the boys kids like that doesn't make sense if you if you like something to stick to you know first of all you've changed Babe you you you don't like what you like five years ago I know that because of the food simply the food that you eat okay so people change I thought Blackburn voice but I guess I prefer with kids it doesn't mean that it has to be your way this is a problem if you like if it's not your ways the highway this is the problem of you you know keep the same energy Jennifer when we first started dating you know what type of any shows on television you know the frequency that I was picking us okay I said the question she asked us what do we do together thanks for work that that is meaningful as I will say what we do right every twenty eight days we have a couple's review work with we work is we basically you know goal of our our individual and collective plans goals targets and we kind of you know check  Nicoletta checkbox happened situation and we must off off help each other out with whatever it is that we need help with anything if work basically in our relationship hasn't worked as I said before of the ninety five fitness guy I am okay well finish instructor banjo because he hates when I does it properly all of that so I have meetings all day and so sometimes when you mail messages me I con Mrs Jim back as soon as his contact our state more flexible than mine I would message July %HESITATION in the new message me back and then you know I would respond in another two hours and I know this guy on his phone I listed for him on Instagram but because I had taken ages because ours busy the message him who basically much my messages and take another to ask message me has so tallies diverting attention we are being charged is that much ideas do you already no matter what your semen Daijiro alright hold on  did I not see on Instagram earlier that day that misses you add double technologies said sorry do you not think I must be not Europe so I mean you're monitoring my Instagram no definitely that one can I say is you match my messages it's very childish okay cool so I just want me to two hours on behalf of clients from not no no because you can have your family when you do you wasn't on the cap that time of course okay  like ridiculous so it's had its life match with it matches my hometown make yet he wouldn't admit it's not that serious looking the comparisons masses boyfriend we could look  wait may I speak a lot isn't it like she told me that when she addresses the situation he's able to acknowledge G. and he just moved on Giovanni Troy letter but your point your friend boyfriend discussing the problem maybe she's active a bit more about this yes don't compare me that I've had enough result conversations off a friend to come us six laugh off family last this distance stopping whatever does finger action here like she loves comparing to other people other guys that no let's get compared to other people that what would you do for this conversation not times financing just needs to stop imprisoning or so much luck is this a quite influential person in your life is the improvements here this is my best friends so we speak a lot about our relationship as I mean I can personalise and happy to add having to speak about our sex life and having to speak about things that we do like I'm happy and how does that make you feel knowing that she's talking to this friend of hers or something more different China is about like girls that just be speaking to too much like I has your friend but when it comes to situation that's but myself special my family life and then I talk about Stanley life from laugh well what what we think about  let me just put some contact info social spoke about the situation between minimum of one  I just had a baby actually bring up that information bring back up okay so there may my mum you have a bit of %HESITATION without saying  here in their relationship sort of thing so she's going through a friend Mansell %HESITATION I just told about the situation I think it has nothing to do with your friends about our end Helena  Denise although telling her about the situation I was just telling her how it was affecting me and Jamelle that's what I was saying what's advise you give she just said like but you're moving out soon you know just general ships out like why do you care about the lettering that mumble but general chit chat on my just my anyone to chat you need something that works for you J. boredom  K. that's how they should I literally do not see it issue with telling my best thing about my relationship life is what goals do is what we do is how we like to communicate we like to share with our best these like math select him a storeys and I like to hear hers I think democracy has issue with there because you know acting right if you were doing the most nineteen hours happy within the with his behaviour on then maybe he would imagine Max up so up in this check up are you both as I say on the same page  we were on the same page as we've been  we're always on the same page because all poor cares about is if I finances I'm going fast savings group five from that if we're still arguing nothing changes Jennifer and if if it's the point that I am cleaning up the whole damn house as well as having a ninety five and the business nothing's changed he doesn't have an input in personal stuff it's just about work work work work everything out working in understanding how many poll before you got involved with Shona how did you want your household  well obviously everything was self %HESITATION sustainable self managed however at the end of the day I think the question that you should be asking Chama is if she's getting into a relationship with a person like myself I don't want to be bringing to the table but what I'm bringing to the table I'm not saying that you don't bring anything to the table I'm saying you need to let her know that this certain things that are expected when  when she's receiving you know a certain lip of certain things  first of all I contribute to the bills %HESITATION I'm doing the %HESITATION I take care of myself of course he buys me things but I'm going up to shop for myself I'm also taking care of the home and him yes he might do most of the finance but I'm bringing a lot to your life and without me  he will be in deficit you'll be lacking something okay let's not get confused I work okay Paul does not finance me completely that makes sense yes he %HESITATION significantly more than ideal way doesn't finance me alright but if you're talking about me becoming a housewife clearly because you're talking about finances a metering bring to the table what's wrong with being hold on while that goes that's the plan we have a we first met should general question I don't want to be a housewife is nothing wrong with it but I don't want to be housewife I have a choice  does that make sense I wanted to be a housewife I would've become a housewife that's what you keep  pushing for me to do that's not what I wanna do baby okay okay I believe we used to clean his own house and changes sheets and cook for himself we just moved in together six months ago all of a sudden that has now become my duty on mine alone very mind both of us are busy but with myself I'm an owner Jennifer and I will go out and I will come back and I'm bringing the bacon for real Jennifer and if that's the case and I'm able to provide for the both of us and kids in the future from now why would she stressful being out trying to understand thing that I already have fit down Mr out something I would've come home with a check and say Babe  how should we invest if and did you notice that things change once I moved in  in terms of how I. behave easy  no no no let's let's not let's not be toxic bring look Mrs why is why %HESITATION how can I put this if I  fifty lost client finished by like nine thirty so we're about some %HESITATION Undergaro knight's bridge right ten minutes from home so you know some work for the fifteen twenty minutes twenty thirty minutes twenty minutes from home %HESITATION so if she gets home she finished that five roughly and you know she's home roughly maybe not five thirty no traffic or that there was six  and I get home nine thirty do you don't use have you made a plan don't you think it's a bit practical to kind of consider that your partner may be coming home but but but wait this is this is for you Denise do you think that you know  I can understand what you're saying and the does seem to be a few hours to spare however  London  terminal tentative  I'm not here to tell anyone to see on the stand I'm here to listen just agreed once said that it's not a case would likely like under your  no but just the way therapy works is you to discussing an I'm an intermedia so I don't know what happened what's happening soon if she comes up with a point your quick to stay on yep Paul what do you think about it  when I when you clearly agree with me on something you're not asking for the same question  can I just say bear with me the reason I go to you with a question is because you're not being vocal show that is being very vocal you being vocal now but the reason I was bringing everything back he was because you weren't being vocal and it's great to hear that now you have got things to say because that's what we hear is it now well hello are you trying to gang up on me on something I'm paying for your service you should serve it equally Jennifer can like make it makes sense it's interesting to see the way that you both react can you see that you're reacting to each other India it's like every time I say something he always have a rebuttal that you never had a lot of what you do your lane one your childish you take the address what the messages in your have you have issue with the conversation I have my friends how would you like him to change in the way that he deals with you what would you like to see different okay %HESITATION I would like such a mild actually listen to me when I speak for one I would like you to take accountability and try and fix the things that point out because it's small feelings is very tiny and I thought that we could move Pasti if you just accept the fact that sometimes you can be childish yes and sometimes you're late that's it is there anything that %HESITATION you would respond to with regard or certainly I feel like just do not compare me that no one wants to be compared how lucky are compared to is what one of my best friends all if you were behaving the maybe I would be helping my mum does things like indeed that it like and I just want to seek advice from my friends and measures from me what help with friends doing even raising the bar even higher because you can do that too so you'll friend has a boyfriend that that new compare deep compare we're all the same age range her boyfriend is about his age as well there's certain things that he's doing for like taking our our weekly you know by now gears all these sort of things I'm gonna look at my  relations as well and evaluate it and I'm just bringing it to the amount  end hopefully you can work in is not that what I really like about matches boyfriend he's the he's proactive you know there has to be told what to do if NASA was give a match the once the mill he's already unable for she has to say and Jamelle really needs to take a leave of his book does two mile everybody's gift  Roscoe  I mean at the beginning of the relationship %HESITATION if I know before we got together actually he didn't like me good but now it's definitely dropped I don't really get much %HESITATION even like flowers or like shock let's you know  is that a problem for you J. one hundred percent I love gift and %HESITATION that's just like my love language and tomatoes that there at the start of the relationship me and email went on for many days he was pretty mean lack a princess will going out and days he'll buy me gave you know we'll spend a lot of quality time together but now demos the complete opposite he's completely fallen off and it's like he doesn't care right Deborah's love language a bit confusing sometimes me plus I think it's wishing washing that one minute it's given gifs next minutes quality term that I live in a community programme at the same time well one thing is always aware of what I don't mind it but rather that go towards the quality time right now obviously because of my personal things I'm doing \n"
     ]
    }
   ],
   "source": [
    "text_therapy_1 = []\n",
    "\n",
    "for file in results:\n",
    "    for result in file['results']:\n",
    "        #print(result['alternatives'][0]['transcript'])\n",
    "        #print(\"\\n\")\n",
    "        text_therapy_1.append(result['alternatives'][0]['transcript'])\n",
    "\n",
    "transcript = ' '.join(text_therapy_1)\n",
    "print(transcript)"
   ]
  },
  {
   "cell_type": "code",
   "execution_count": 16,
   "metadata": {},
   "outputs": [],
   "source": [
    "with open('therapy1_output.txt', 'w') as out:\n",
    "    out.writelines(transcript)"
   ]
  },
  {
   "cell_type": "code",
   "execution_count": null,
   "metadata": {},
   "outputs": [],
   "source": []
  }
 ],
 "metadata": {
  "kernelspec": {
   "display_name": "Python 3",
   "language": "python",
   "name": "python3"
  },
  "language_info": {
   "codemirror_mode": {
    "name": "ipython",
    "version": 3
   },
   "file_extension": ".py",
   "mimetype": "text/x-python",
   "name": "python",
   "nbconvert_exporter": "python",
   "pygments_lexer": "ipython3",
   "version": "3.8.5"
  }
 },
 "nbformat": 4,
 "nbformat_minor": 4
}
