{
 "cells": [
  {
   "cell_type": "markdown",
   "metadata": {},
   "source": [
    "## Install and  Import Dependencies"
   ]
  },
  {
   "cell_type": "code",
   "execution_count": 1,
   "metadata": {},
   "outputs": [
    {
     "name": "stdout",
     "output_type": "stream",
     "text": [
      "Collecting ibm_watson\n",
      "  Downloading ibm-watson-5.2.0.tar.gz (409 kB)\n",
      "\u001b[K     |████████████████████████████████| 409 kB 2.7 MB/s eta 0:00:01\n",
      "\u001b[?25hRequirement already satisfied: requests<3.0,>=2.0 in /home/efeozkaya/anaconda3/lib/python3.8/site-packages (from ibm_watson) (2.24.0)\n",
      "Requirement already satisfied: python_dateutil>=2.5.3 in /home/efeozkaya/anaconda3/lib/python3.8/site-packages (from ibm_watson) (2.8.1)\n",
      "Collecting websocket-client==0.48.0\n",
      "  Downloading websocket_client-0.48.0-py2.py3-none-any.whl (198 kB)\n",
      "\u001b[K     |████████████████████████████████| 198 kB 21.8 MB/s eta 0:00:01\n",
      "\u001b[?25hCollecting ibm_cloud_sdk_core==3.*,>=3.3.6\n",
      "  Downloading ibm-cloud-sdk-core-3.10.0.tar.gz (39 kB)\n",
      "Requirement already satisfied: idna<3,>=2.5 in /home/efeozkaya/anaconda3/lib/python3.8/site-packages (from requests<3.0,>=2.0->ibm_watson) (2.10)\n",
      "Requirement already satisfied: chardet<4,>=3.0.2 in /home/efeozkaya/anaconda3/lib/python3.8/site-packages (from requests<3.0,>=2.0->ibm_watson) (3.0.4)\n",
      "Requirement already satisfied: urllib3!=1.25.0,!=1.25.1,<1.26,>=1.21.1 in /home/efeozkaya/anaconda3/lib/python3.8/site-packages (from requests<3.0,>=2.0->ibm_watson) (1.25.11)\n",
      "Requirement already satisfied: certifi>=2017.4.17 in /home/efeozkaya/anaconda3/lib/python3.8/site-packages (from requests<3.0,>=2.0->ibm_watson) (2020.6.20)\n",
      "Requirement already satisfied: six>=1.5 in /home/efeozkaya/anaconda3/lib/python3.8/site-packages (from python_dateutil>=2.5.3->ibm_watson) (1.15.0)\n",
      "Collecting PyJWT<3.0.0,>=2.0.1\n",
      "  Downloading PyJWT-2.1.0-py3-none-any.whl (16 kB)\n",
      "Building wheels for collected packages: ibm-watson, ibm-cloud-sdk-core\n",
      "  Building wheel for ibm-watson (setup.py) ... \u001b[?25ldone\n",
      "\u001b[?25h  Created wheel for ibm-watson: filename=ibm_watson-5.2.0-py3-none-any.whl size=403240 sha256=3e7af1b63b1db9fd5956ff0d324c35e7329cb96f90074eda72b47c74cb18b517\n",
      "  Stored in directory: /home/efeozkaya/.cache/pip/wheels/9c/e1/cd/7caebb3e23fd2722ad50db5ea5ea8362ff77d2ecb1f7d1936b\n",
      "  Building wheel for ibm-cloud-sdk-core (setup.py) ... \u001b[?25ldone\n",
      "\u001b[?25h  Created wheel for ibm-cloud-sdk-core: filename=ibm_cloud_sdk_core-3.10.0-py3-none-any.whl size=60913 sha256=c1facc43a0139d34aa6f5c0ca0fcccda658ce66cbed0e22ce53d82ad99a8f0fb\n",
      "  Stored in directory: /home/efeozkaya/.cache/pip/wheels/25/f3/b1/1da82e99b552ed44485071ba233652b9f46c06a55853eac780\n",
      "Successfully built ibm-watson ibm-cloud-sdk-core\n",
      "Installing collected packages: websocket-client, PyJWT, ibm-cloud-sdk-core, ibm-watson\n",
      "Successfully installed PyJWT-2.1.0 ibm-cloud-sdk-core-3.10.0 ibm-watson-5.2.0 websocket-client-0.48.0\n"
     ]
    }
   ],
   "source": [
    "!pip install ibm_watson"
   ]
  },
  {
   "cell_type": "code",
   "execution_count": 9,
   "metadata": {},
   "outputs": [
    {
     "name": "stdout",
     "output_type": "stream",
     "text": [
      "Cloning into 'ffmpeg'...\n",
      "remote: Enumerating objects: 1900, done.\u001b[K\n",
      "remote: Counting objects: 100% (1900/1900), done.\u001b[K\n",
      "remote: Compressing objects: 100% (1606/1606), done.\u001b[K\n",
      "remote: Total 628384 (delta 1199), reused 393 (delta 294)50 MiB/s   \n",
      "Receiving objects: 100% (628384/628384), 150.88 MiB | 14.72 MiB/s, done.\n",
      "Resolving deltas: 100% (505092/505092), done.\n"
     ]
    }
   ],
   "source": [
    "#https://ffmpeg.org/download.html\n",
    "!git clone https://git.ffmpeg.org/ffmpeg.git ffmpeg"
   ]
  },
  {
   "cell_type": "code",
   "execution_count": 36,
   "metadata": {},
   "outputs": [],
   "source": [
    "import subprocess\n",
    "from ibm_watson import SpeechToTextV1\n",
    "from ibm_watson.websocket import RecognizeCallback, AudioSource\n",
    "from ibm_cloud_sdk_core.authenticators import IAMAuthenticator"
   ]
  },
  {
   "cell_type": "markdown",
   "metadata": {},
   "source": [
    "## 1.Extract Audio"
   ]
  },
  {
   "cell_type": "code",
   "execution_count": 10,
   "metadata": {},
   "outputs": [
    {
     "data": {
      "text/plain": [
       "0"
      ]
     },
     "execution_count": 10,
     "metadata": {},
     "output_type": "execute_result"
    }
   ],
   "source": [
    "command='ffmpeg -i ShortVideo.mp4 -ab 160k -ar 44100 -vn VideoAudio.wav'\n",
    "subprocess.call(command, shell=True)"
   ]
  },
  {
   "cell_type": "markdown",
   "metadata": {},
   "source": [
    "## 2.Setup SpeechToText(STT) Service"
   ]
  },
  {
   "cell_type": "code",
   "execution_count": 1,
   "metadata": {},
   "outputs": [],
   "source": [
    "apikey = '...'\n",
    "url = '...'"
   ]
  },
  {
   "cell_type": "code",
   "execution_count": 3,
   "metadata": {},
   "outputs": [],
   "source": [
    "authenticator = IAMAuthenticator(apikey)\n",
    "stt = SpeechToTextV1(authenticator=authenticator)\n",
    "stt.set_service_url(url)"
   ]
  },
  {
   "cell_type": "markdown",
   "metadata": {},
   "source": [
    "## 3.Open Audio Source and Convert"
   ]
  },
  {
   "cell_type": "code",
   "execution_count": 6,
   "metadata": {},
   "outputs": [],
   "source": [
    "with open('VideoAudio.wav', 'rb') as f:\n",
    "    res = stt.recognize(audio=f,\n",
    "                        content_type='audio/wav',\n",
    "                        model='en-US_NarrowbandModel',\n",
    "                        continuous=True).get_result()\n",
    "\n",
    "#print(res)"
   ]
  },
  {
   "cell_type": "code",
   "execution_count": 10,
   "metadata": {},
   "outputs": [
    {
     "data": {
      "text/plain": [
       "{'result_index': 0,\n",
       " 'results': [{'final': True,\n",
       "   'alternatives': [{'transcript': '%HESITATION ', 'confidence': 0.95}]},\n",
       "  {'final': True,\n",
       "   'alternatives': [{'transcript': '%HESITATION ', 'confidence': 0.93}]},\n",
       "  {'final': True,\n",
       "   'alternatives': [{'transcript': '%HESITATION ', 'confidence': 0.73}]},\n",
       "  {'final': True,\n",
       "   'alternatives': [{'transcript': '%HESITATION ', 'confidence': 1.0}]},\n",
       "  {'final': True,\n",
       "   'alternatives': [{'transcript': \"everybody so we're finally going to show you what the inside of our van looks like after we built it all out \",\n",
       "     'confidence': 0.86}]},\n",
       "  {'final': True,\n",
       "   'alternatives': [{'transcript': 'here we go ', 'confidence': 0.89}]},\n",
       "  {'final': True,\n",
       "   'alternatives': [{'transcript': 'so this is our daytime thing is where we have the bed and the couch mode and the questions that we use to extend about our own anything until ',\n",
       "     'confidence': 0.52}]},\n",
       "  {'final': True,\n",
       "   'alternatives': [{'transcript': 'we need here we have R. as in their clothing food or skate board backpack ',\n",
       "     'confidence': 0.73}]},\n",
       "  {'final': True,\n",
       "   'alternatives': [{'transcript': 'all that stuff is all neatly sorted under here ',\n",
       "     'confidence': 0.63}]},\n",
       "  {'final': True,\n",
       "   'alternatives': [{'transcript': \"here we have all of our kitchen things so in this section we have caller snack food water bottles he's into water all here this is from the schooling is things that we want to quickly be able to drive down here same thing so we have storage years storage here \",\n",
       "     'confidence': 0.77}]},\n",
       "  {'final': True,\n",
       "   'alternatives': [{'transcript': 'and we have our schools this these heroes who really use it we have our little coffee press that we had %HESITATION cheers stationary organizer where we can keep some extra things that we want quick at hand to grow that we have our solar panel that we keep behind the seat or window shield that we made for all the windows go back here the ones for the back go back there and any other space that we have we just try to use buildings in where they can try to keep it as organized as possible which is %HESITATION ',\n",
       "     'confidence': 0.73}]},\n",
       "  {'final': True,\n",
       "   'alternatives': [{'transcript': 'mall create spaces ',\n",
       "     'confidence': 0.46}]},\n",
       "  {'final': True,\n",
       "   'alternatives': [{'transcript': \"so we'll show you what it looks like in bed \",\n",
       "     'confidence': 0.65}]},\n",
       "  {'final': True,\n",
       "   'alternatives': [{'transcript': 'okay so now we have extended the couch out and now this is what it looks like in bed so ',\n",
       "     'confidence': 0.79}]},\n",
       "  {'final': True,\n",
       "   'alternatives': [{'transcript': \"Craig %HESITATION you see is a wide open space there is more than enough room honestly opened out it's like cool and clean in the back %HESITATION \",\n",
       "     'confidence': 0.77}]},\n",
       "  {'final': True,\n",
       "   'alternatives': [{'transcript': 'you can believe it ', 'confidence': 0.6}]},\n",
       "  {'final': True,\n",
       "   'alternatives': [{'transcript': 'one person ', 'confidence': 0.61}]},\n",
       "  {'final': True,\n",
       "   'alternatives': [{'transcript': 'we were there for the next ',\n",
       "     'confidence': 0.6}]},\n",
       "  {'final': True,\n",
       "   'alternatives': [{'transcript': 'so pretty much we have the pieces ',\n",
       "     'confidence': 0.75}]},\n",
       "  {'final': True,\n",
       "   'alternatives': [{'transcript': 'thanks send out this was six and out of the question and %HESITATION good to go one question on you so ',\n",
       "     'confidence': 0.71}]},\n",
       "  {'final': True,\n",
       "   'alternatives': [{'transcript': \"and this is so now we'll show you what it looks like camping \",\n",
       "     'confidence': 0.81}]},\n",
       "  {'final': True,\n",
       "   'alternatives': [{'transcript': '%HESITATION ', 'confidence': 0.98}]},\n",
       "  {'final': True,\n",
       "   'alternatives': [{'transcript': '%HESITATION %HESITATION %HESITATION %HESITATION ',\n",
       "     'confidence': 0.96}]},\n",
       "  {'final': True,\n",
       "   'alternatives': [{'transcript': '%HESITATION %HESITATION %HESITATION %HESITATION ',\n",
       "     'confidence': 0.77}]},\n",
       "  {'final': True,\n",
       "   'alternatives': [{'transcript': '%HESITATION ', 'confidence': 0.94}]}]}"
      ]
     },
     "execution_count": 10,
     "metadata": {},
     "output_type": "execute_result"
    }
   ],
   "source": [
    "#res"
   ]
  },
  {
   "cell_type": "markdown",
   "metadata": {},
   "source": [
    "## 4.Process Results and Output to Text"
   ]
  },
  {
   "cell_type": "code",
   "execution_count": 11,
   "metadata": {},
   "outputs": [
    {
     "data": {
      "text/plain": [
       "25"
      ]
     },
     "execution_count": 11,
     "metadata": {},
     "output_type": "execute_result"
    }
   ],
   "source": [
    "len(res['results'])"
   ]
  },
  {
   "cell_type": "code",
   "execution_count": 34,
   "metadata": {},
   "outputs": [
    {
     "name": "stdout",
     "output_type": "stream",
     "text": [
      "%HESITATION  %HESITATION  %HESITATION  %HESITATION  everybody so we're finally going to show you what the inside of our van looks like after we built it all out  here we go  so this is our daytime thing is where we have the bed and the couch mode and the questions that we use to extend about our own anything until  we need here we have R. as in their clothing food or skate board backpack  all that stuff is all neatly sorted under here  here we have all of our kitchen things so in this section we have caller snack food water bottles he's into water all here this is from the schooling is things that we want to quickly be able to drive down here same thing so we have storage years storage here  and we have our schools this these heroes who really use it we have our little coffee press that we had %HESITATION cheers stationary organizer where we can keep some extra things that we want quick at hand to grow that we have our solar panel that we keep behind the seat or window shield that we made for all the windows go back here the ones for the back go back there and any other space that we have we just try to use buildings in where they can try to keep it as organized as possible which is %HESITATION  mall create spaces  so we'll show you what it looks like in bed  okay so now we have extended the couch out and now this is what it looks like in bed so  Craig %HESITATION you see is a wide open space there is more than enough room honestly opened out it's like cool and clean in the back %HESITATION  you can believe it  one person  we were there for the next  so pretty much we have the pieces  thanks send out this was six and out of the question and %HESITATION good to go one question on you so  and this is so now we'll show you what it looks like camping  %HESITATION  %HESITATION %HESITATION %HESITATION %HESITATION  %HESITATION %HESITATION %HESITATION %HESITATION  %HESITATION \n"
     ]
    }
   ],
   "source": [
    "text = []\n",
    "for result in res['results']:\n",
    "    #print(result['alternatives'][0]['transcript'])\n",
    "    #print(\"\\n\")\n",
    "    text.append(result['alternatives'][0]['transcript'])\n",
    "\n",
    "transcript = ' '.join(text)\n",
    "print(transcript)"
   ]
  },
  {
   "cell_type": "code",
   "execution_count": 38,
   "metadata": {},
   "outputs": [
    {
     "name": "stdout",
     "output_type": "stream",
     "text": [
      "Jack Pepsi CD this is checked out what do you think about that quick I like the tad Pepsi look of it yeah yeah like around yeah it's it's like a Pepsi logo but it's is tad instead of Pepsi yeah it's pretty cool if you're into being like that you know they maybe they should have got it's like a tableau go you know like you know tabs tab and tad sound like each other but it's cool it's not anything like the word Pepsi see most people like in the pop for the mainstream line would say yeah they should on tab instead \n"
     ]
    }
   ],
   "source": [
    "from ibm_watson import SpeechToTextV1\n",
    "from ibm_watson.websocket import RecognizeCallback, AudioSource\n",
    "from ibm_cloud_sdk_core.authenticators import IAMAuthenticator\n",
    "\n",
    "apikey = 'GYKjKP7J-JKCL2sKb_Jo2tIEyYMRa3ja96JG2g-k19QD'\n",
    "url = 'https://api.us-south.speech-to-text.watson.cloud.ibm.com/instances/12f09241-ec8a-443d-8907-2f5d50e9bbab'\n",
    "\n",
    "authenticator = IAMAuthenticator(apikey)\n",
    "stt = SpeechToTextV1(authenticator=authenticator)\n",
    "stt.set_service_url(url)\n",
    "\n",
    "\n",
    "with open('voice.wav', 'rb') as f:\n",
    "    res_2 = stt.recognize(audio=f,\n",
    "                        content_type='audio/wav',\n",
    "                        model='en-US_NarrowbandModel',\n",
    "                        continuous=True).get_result()\n",
    "\n",
    "#print(res_2)\n",
    "\n",
    "text_2 = []\n",
    "for result_2 in res_2['results']:\n",
    "    #print(result_2['alternatives'][0]['transcript'])\n",
    "    #print(\"\\n\")\n",
    "    text_2.append(result_2['alternatives'][0]['transcript'])\n",
    "\n",
    "transcript_2 = ' '.join(text_2)\n",
    "print(transcript_2)\n",
    "\n",
    "with open('transcript_2.txt', 'w') as out:\n",
    "    out.writelines(transcript_2)"
   ]
  },
  {
   "cell_type": "code",
   "execution_count": null,
   "metadata": {},
   "outputs": [],
   "source": []
  }
 ],
 "metadata": {
  "kernelspec": {
   "display_name": "Python 3",
   "language": "python",
   "name": "python3"
  },
  "language_info": {
   "codemirror_mode": {
    "name": "ipython",
    "version": 3
   },
   "file_extension": ".py",
   "mimetype": "text/x-python",
   "name": "python",
   "nbconvert_exporter": "python",
   "pygments_lexer": "ipython3",
   "version": "3.8.5"
  }
 },
 "nbformat": 4,
 "nbformat_minor": 4
}
